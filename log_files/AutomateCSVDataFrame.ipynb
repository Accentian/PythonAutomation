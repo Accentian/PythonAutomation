{
 "cells": [
  {
   "cell_type": "code",
   "execution_count": 4,
   "id": "e31347ef",
   "metadata": {},
   "outputs": [],
   "source": [
    "import pandas as pd\n",
    "import numpy as np\n",
    "import os, sys\n",
    "#from IPython.core.display import display\n",
    "#import matplotlib.pyplot as plt"
   ]
  },
  {
   "cell_type": "code",
   "execution_count": 5,
   "id": "b16983fe",
   "metadata": {},
   "outputs": [],
   "source": [
    "all_the_log_files = [f for f in os.listdir() if f.endswith('lammps')]\n",
    "\n",
    "for log_file in all_the_log_files:\n",
    "    file_stem = log_file.replace('.log.lammps','')\n",
    "\n",
    "    ## get the text from the log file\n",
    "    with open(log_file, 'r') as f:\n",
    "        txt = f.readlines()\n",
    "\n",
    "    col_check_str = 'Step          Temp         v_strain      v_sigmaxx      v_sigmayy'\n",
    "    end_check_str = 'Loop time of '\n",
    "    columns = None\n",
    "    start_idx, end_idx = 0, len(txt)\n",
    "\n",
    "    for line_idx, line in enumerate(txt):\n",
    "        if col_check_str in line:\n",
    "            columns = line.strip().split()\n",
    "            start_idx = line_idx + 1\n",
    "        if end_check_str in line and columns:\n",
    "            end_idx = line_idx - 1\n",
    "\n",
    "    ## PRINT DEBUG\n",
    "    # print(columns)\n",
    "    # print(start_idx,end_idx)\n",
    "    # print(data0[-1:])\n",
    "\n",
    "    data0 = txt[start_idx:end_idx]\n",
    "    data = [row for row in data0]\n",
    "\n",
    "    ## write the CSV file\n",
    "    csv_name = f'{file_stem}.csv'\n",
    "    with open(csv_name, 'w') as f:\n",
    "        f.write(\",\".join(columns) + \"\\n\")\n",
    "        for start_idx in data:\n",
    "            columns_entry = start_idx.strip().split()\n",
    "            f.write(\",\".join(columns_entry) + \"\\n\")\n",
    "    \n",
    "    all_dataframes = []\n",
    "    cnt_df = pd.read_csv(f'{file_stem}.csv')\n",
    "    all_dataframes.append(cnt_df)\n",
    "\n",
    "## after the for loop finishes:\n",
    "mother_of_all_dataframes = pd.concat(all_dataframes, ignore_index=True) # <--- check this method out online\n",
    "mother_of_all_dataframes.to_csv(\"my_cnt_data.csv\")\n"
   ]
  },
  {
   "cell_type": "code",
   "execution_count": 6,
   "id": "ac5065e8",
   "metadata": {},
   "outputs": [
    {
     "name": "stdout",
     "output_type": "stream",
     "text": [
      "         Step       Temp  v_strain  v_sigmaxx  v_sigmayy  v_sigmazz  \\\n",
      "0     100      301.85532  0.00005  -0.010150  -0.009977  -0.798914    \n",
      "1     200      301.17187  0.00010   0.011821   0.011578  -0.667690    \n",
      "2     300      301.37162  0.00015  -0.002973   0.004474  -0.642437    \n",
      "3     400      297.81929  0.00020  -0.008739  -0.014620  -0.613040    \n",
      "4     500      302.96687  0.00025   0.010831   0.004624  -0.547796    \n",
      "...   ...            ...      ...        ...        ...        ...    \n",
      "9995  999600   299.99647  0.49980  -0.007815  -0.006517   0.172869    \n",
      "9996  999700   300.21284  0.49985   0.003187   0.003529   0.119881    \n",
      "9997  999800   300.73825  0.49990   0.004320   0.002210   0.105560    \n",
      "9998  999900   298.03948  0.49995  -0.005277  -0.000743   0.066882    \n",
      "9999  1000000  304.89938  0.50000   0.001041  -0.000223   0.092970    \n",
      "\n",
      "         PotEng     KinEng         Lx         Ly         Lz      Volume  \\\n",
      "0    -59837.896  316.47388  98.432611  98.419750  326.92153  3167122.00   \n",
      "1    -59840.896  315.75734  98.358948  98.375692  326.93788  3163493.30   \n",
      "2    -59842.208  315.96676  98.543694  98.325597  326.95422  3167979.60   \n",
      "3    -59841.145  312.24239  98.509374  98.229483  326.97057  3163938.80   \n",
      "4    -59848.771  317.63926  98.431907  98.138238  326.98691  3158672.00   \n",
      "...         ...        ...        ...        ...        ...         ...   \n",
      "9995 -59262.194  314.52501  22.421079  22.740264  490.30056  249985.26    \n",
      "9996 -59259.741  314.75186  22.410302  22.707385  490.31691  249512.15    \n",
      "9997 -59258.283  315.30272  22.424755  22.711684  490.33326  249728.66    \n",
      "9998 -59253.225  312.47325  22.430333  22.690435  490.34960  249565.39    \n",
      "9999 -59257.171  319.66537  22.448648  22.668240  490.36595  249533.18    \n",
      "\n",
      "      v_cntdiameter    v_CorVol  \n",
      "0     20.917384      73004.310   \n",
      "1     20.846363      72760.072   \n",
      "2     20.897171      72941.055   \n",
      "3     20.913467      73001.585   \n",
      "4     20.939592      73096.433   \n",
      "...         ...            ...   \n",
      "9995  22.760244      119135.330  \n",
      "9996  22.767105      119175.210  \n",
      "9997  22.967528      120228.340  \n",
      "9998  22.691718      118788.520  \n",
      "9999  22.819465      119461.240  \n",
      "\n",
      "[10000 rows x 14 columns]\n"
     ]
    }
   ],
   "source": [
    "\n",
    "pd.set_option(\"display.max_colwidth\", 2)\n",
    "print(mother_of_all_dataframes)"
   ]
  },
  {
   "cell_type": "code",
   "execution_count": null,
   "id": "1069e1ca",
   "metadata": {},
   "outputs": [],
   "source": []
  },
  {
   "cell_type": "code",
   "execution_count": null,
   "id": "026c7971",
   "metadata": {},
   "outputs": [],
   "source": []
  }
 ],
 "metadata": {
  "kernelspec": {
   "display_name": "Python 3 (ipykernel)",
   "language": "python",
   "name": "python3"
  },
  "language_info": {
   "codemirror_mode": {
    "name": "ipython",
    "version": 3
   },
   "file_extension": ".py",
   "mimetype": "text/x-python",
   "name": "python",
   "nbconvert_exporter": "python",
   "pygments_lexer": "ipython3",
   "version": "3.9.12"
  }
 },
 "nbformat": 4,
 "nbformat_minor": 5
}
