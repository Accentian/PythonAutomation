{
 "cells": [
  {
   "cell_type": "code",
   "execution_count": 1,
   "id": "7a944b55",
   "metadata": {},
   "outputs": [
    {
     "name": "stderr",
     "output_type": "stream",
     "text": [
      "/tmp/ipykernel_173177/1663316393.py:4: DeprecationWarning: Importing display from IPython.core.display is deprecated since IPython 7.14, please import from IPython display\n",
      "  from IPython.core.display import display\n"
     ]
    }
   ],
   "source": [
    "import pandas as pd\n",
    "import numpy as np\n",
    "import os, sys\n",
    "from IPython.core.display import display\n",
    "import matplotlib.pyplot as plt"
   ]
  },
  {
   "cell_type": "code",
   "execution_count": 2,
   "id": "dc83de5e",
   "metadata": {},
   "outputs": [],
   "source": [
    "all_the_data_files = [f for f in os.listdir() if f.endswith('.dat')]\n",
    "\n",
    "for data_file in all_the_data_files:\n",
    "    file_stem = data_file.replace('.dat','')\n",
    "\n",
    "    ## get the text from the data file\n",
    "    with open(data_file, 'r') as f:\n",
    "        lines = f.readlines()\n",
    "        for row, line in enumerate(lines):\n",
    "            if row in [3]:\n",
    "                rm_newline = line.strip('\\n')\n",
    "                num_atoms = f'{rm_newline} atoms\\n\\n'\n",
    "            if row in [5]:\n",
    "                rm_newline = line.strip('\\n')\n",
    "                x_box = f'{rm_newline}\t\t\txlo xhi\\n'\n",
    "            if row in [6]:\n",
    "                rm_newline = line.strip('\\n')\n",
    "                y_box = f'{rm_newline}\t\t\tylo yhi\\n'\n",
    "            if row in [7]:\n",
    "                rm_newline = line.strip('\\n')\n",
    "                z_box = f'{rm_newline}\tzlo zhi \\n\\n'\n",
    "\n",
    "    unneeded_lines = range(0,9)\n",
    "    start_idx, end_idx = 0, len(lines)\n",
    "    str_check = 'ITEM:'\n",
    "\n",
    "    data_header = f'# Data File for {file_stem}\\n\\n'\n",
    "    atom_types = '1 atom types\\n\\n'\n",
    "    info_type = 'Masses\\n\\n1 12.01\\n\\nAtoms\\n\\n'\n",
    "    combined_str = f'{data_header}{num_atoms}{atom_types}{x_box}{y_box}{z_box}{info_type}'\n",
    "\n",
    "    with open(data_file, 'w') as fw:\n",
    "        for row, line in enumerate(lines):\n",
    "            if row in [0]:\n",
    "                fw.write(combined_str)\n",
    "            elif row not in unneeded_lines:\n",
    "                fw.write(line)\n",
    "\n",
    "    ## DEBUG PRINT: KEEP IT IN THIS ORDER\n",
    "    # print(data_header)\n",
    "    # print(num_atoms)\n",
    "    # print(atom_types)\n",
    "    # print(x_box)\n",
    "    # print(y_box)\n",
    "    # print(z_box)\n",
    "    # print(info_type)\n",
    "    # print(combined_str)\n"
   ]
  },
  {
   "cell_type": "code",
   "execution_count": 3,
   "id": "f01f1d34",
   "metadata": {},
   "outputs": [],
   "source": [
    "all_the_data_files = [f for f in os.listdir() if f.endswith('.dat')]\n",
    "\n",
    "for data_file in all_the_data_files:\n",
    "    file_stem = data_file.replace('.dat','')\n",
    "\n",
    "    ## get the text from the log file\n",
    "    with open(data_file, 'r') as f:\n",
    "        txt = f.readlines()\n",
    "\n",
    "    col_check_str = 'Atoms'\n",
    "    columns = None\n",
    "    start_idx, end_idx = 0, len(txt)\n",
    "\n",
    "    for line_idx, line in enumerate(txt):\n",
    "        if col_check_str in line:\n",
    "            columns = line.strip().split()\n",
    "            start_idx = line_idx + 1\n",
    "\n",
    "    ## PRINT DEBUG\n",
    "    # print(columns)\n",
    "    # print(start_idx,end_idx)\n",
    "    # print(data0[-1:])\n",
    "\n",
    "    data0 = txt[start_idx:end_idx]\n",
    "    data = [row for row in data0]\n",
    "    columns_entry = None\n",
    "\n",
    "    ## write the CSV file\n",
    "    csv_name = f'{file_stem}.csv'\n",
    "    with open(csv_name, 'w') as f:\n",
    "        f.write(\",\".join(columns) + \"\\n\")\n",
    "        for start_idx in data:\n",
    "            columns_entry = start_idx.strip().split()\n",
    "            f.write(\",\".join(columns_entry) + \"\\n\")\n"
   ]
  },
  {
   "cell_type": "code",
   "execution_count": 4,
   "id": "9d0ba2c5",
   "metadata": {},
   "outputs": [
    {
     "data": {
      "text/plain": [
       "['CNT_13_12_1.696.csv']"
      ]
     },
     "execution_count": 4,
     "metadata": {},
     "output_type": "execute_result"
    }
   ],
   "source": [
    "import glob\n",
    "glob.glob('CNT_*.csv')"
   ]
  },
  {
   "cell_type": "code",
   "execution_count": 6,
   "id": "8d14c9e6",
   "metadata": {},
   "outputs": [
    {
     "name": "stdout",
     "output_type": "stream",
     "text": [
      "Loading CNT_13_12_1.696.csv\n"
     ]
    }
   ],
   "source": [
    "all_dfs = []\n",
    "for one_filename in glob.glob('CNT_*.csv'):\n",
    "    print(f'Loading {one_filename}')\n",
    "    new_df = pd.read_csv(one_filename)\n",
    "    all_dfs.append(new_df)\n",
    "finaldf = pd.concat(all_dfs, axis=1, join='inner').sort_index()"
   ]
  },
  {
   "cell_type": "code",
   "execution_count": 7,
   "id": "8fae6e65",
   "metadata": {},
   "outputs": [],
   "source": [
    "finaldf.to_csv(\"H:\\\\test1.csv\", index = False)"
   ]
  },
  {
   "cell_type": "code",
   "execution_count": null,
   "id": "ac85c2a4",
   "metadata": {},
   "outputs": [],
   "source": []
  }
 ],
 "metadata": {
  "kernelspec": {
   "display_name": "Python 3 (ipykernel)",
   "language": "python",
   "name": "python3"
  },
  "language_info": {
   "codemirror_mode": {
    "name": "ipython",
    "version": 3
   },
   "file_extension": ".py",
   "mimetype": "text/x-python",
   "name": "python",
   "nbconvert_exporter": "python",
   "pygments_lexer": "ipython3",
   "version": "3.9.12"
  }
 },
 "nbformat": 4,
 "nbformat_minor": 5
}
