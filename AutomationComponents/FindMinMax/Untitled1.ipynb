{
 "cells": [
  {
   "cell_type": "code",
   "execution_count": 38,
   "id": "ceef63b2",
   "metadata": {},
   "outputs": [],
   "source": [
    "import os, sys\n",
    "import shutil\n",
    "import pandas as pd"
   ]
  },
  {
   "cell_type": "code",
   "execution_count": 39,
   "id": "70657965",
   "metadata": {},
   "outputs": [],
   "source": [
    "# #all_the_data_files = [f for f in os.listdir() if f.endswith('.dat')]\n",
    "\n",
    "# #for data_file in all_the_data_files:\n",
    "#     #file_stem = data_file.replace('.dat','')\n",
    "\n",
    "#     ## get the text from the data file\n",
    "#     with open(data_file, 'r') as f:\n",
    "#         lines = f.readlines()\n",
    "#         for row, line in enumerate(lines):\n",
    "#             if row in [3]:\n",
    "#                 rm_newline = line.strip('\\n')\n",
    "#                 num_atoms = f'{rm_newline} atoms\\n\\n'\n",
    "#             if row in [5]:\n",
    "#                 rm_newline = line.strip('\\n')\n",
    "#                 x_box = f'{rm_newline}\t\t\txlo xhi\\n'\n",
    "#             if row in [6]:\n",
    "#                 rm_newline = line.strip('\\n')\n",
    "#                 y_box = f'{rm_newline}\t\t\tylo yhi\\n'\n",
    "#             if row in [7]:\n",
    "#                 rm_newline = line.strip('\\n')\n",
    "#                 z_box = f'{rm_newline}\tzlo zhi \\n\\n'\n",
    "\n",
    "#     unneeded_lines = range(0,9)\n",
    "#     start_idx, end_idx = 0, len(lines)\n",
    "#     str_check = 'ITEM:'\n",
    "\n",
    "#     data_header = f'# Data File for {file_stem}\\n\\n'\n",
    "#     atom_types = '1 atom types\\n\\n'\n",
    "#     info_type = 'Masses\\n\\n1 12.01\\n\\nAtoms\\n\\n'\n",
    "#     combined_str = f'{data_header}{num_atoms}{atom_types}{x_box}{y_box}{z_box}{info_type}'\n",
    "\n",
    "#     with open(data_file, 'w') as fw:\n",
    "#         for row, line in enumerate(lines):\n",
    "#             if row in [0]:\n",
    "#                 fw.write(combined_str)\n",
    "#             elif row not in unneeded_lines:\n",
    "#                 fw.write(line)\n",
    "\n"
   ]
  },
  {
   "cell_type": "code",
   "execution_count": 55,
   "id": "fc4ce174",
   "metadata": {},
   "outputs": [
    {
     "name": "stdout",
     "output_type": "stream",
     "text": [
      "['id', 'type', 'xu', 'yu', 'zu']\n"
     ]
    }
   ],
   "source": [
    "all_the_data_files = [f for f in os.listdir() if f.endswith('.dat')]\n",
    "\n",
    "for data_file in all_the_data_files:\n",
    "    file_stem = data_file.replace('.dat','')\n",
    "\n",
    "    ## get the text from the log file\n",
    "    with open(data_file, 'r') as f:\n",
    "        txt = f.readlines()\n",
    "\n",
    "    col_check_str = 'id type xu yu zu'\n",
    "    #end_check_str = 'zu '\n",
    "    columns = None\n",
    "    start_idx, end_idx = 0, len(txt)\n",
    "\n",
    "    for line_idx, line in enumerate(txt):\n",
    "        if col_check_str in line:\n",
    "            columns = line.strip().split()[2:]\n",
    "            start_idx = line_idx + 1\n",
    "\n",
    "    ## PRINT DEBUG\n",
    "    print(columns)\n",
    "    # print(start_idx,end_idx)\n",
    "    # print(data0[-1:])\n",
    "\n",
    "    data0 = txt[start_idx:end_idx]\n",
    "    data = [row for row in data0]\n",
    "    columns_entry = None\n",
    "\n",
    "    ## write the CSV file\n",
    "    csv_name = f'{file_stem}.csv'\n",
    "    with open(csv_name, 'w') as f:\n",
    "        f.write(\",\".join(columns) + \"\\n\")\n",
    "        for start_idx in data:\n",
    "            columns_entry = start_idx.strip().split()\n",
    "            f.write(\",\".join(columns_entry) + \"\\n\")"
   ]
  },
  {
   "cell_type": "code",
   "execution_count": 56,
   "id": "1767e2ad",
   "metadata": {
    "scrolled": true
   },
   "outputs": [
    {
     "data": {
      "text/plain": [
       "['CNT_1_4_0.359.csv']"
      ]
     },
     "execution_count": 56,
     "metadata": {},
     "output_type": "execute_result"
    }
   ],
   "source": [
    "import glob\n",
    "glob.glob('CNT_*.csv')"
   ]
  },
  {
   "cell_type": "code",
   "execution_count": 57,
   "id": "bbabddaa",
   "metadata": {},
   "outputs": [
    {
     "name": "stdout",
     "output_type": "stream",
     "text": [
      "Loading CNT_1_4_0.359.csv\n"
     ]
    }
   ],
   "source": [
    "all_dfs = []\n",
    "\n",
    "for data_file in glob.glob('CNT_*.csv'):\n",
    "    print(f'Loading {data_file}')\n",
    "    new_df = pd.read_csv(data_file)\n",
    "\n",
    "    all_dfs.append(new_df)\n",
    "    finaldf = pd.concat(all_dfs, axis=0, join='inner', ignore_index=True).sort_index()\n"
   ]
  },
  {
   "cell_type": "code",
   "execution_count": 58,
   "id": "a1f8895e",
   "metadata": {},
   "outputs": [
    {
     "data": {
      "text/plain": [
       "<bound method NDFrame.head of       id  type        xu        yu        zu\n",
       "0      1     1  1.645940  0.792644   4.17735\n",
       "1      2     1  0.667426  1.700570   4.64149\n",
       "2      3     1  0.406514  1.781050   6.03394\n",
       "3      4     1 -0.913429  1.582110   6.49809\n",
       "4      5     1  1.826860  0.000000   0.00000\n",
       "..   ...   ...       ...       ...       ...\n",
       "247  248     1  1.806450 -0.272279  57.09040\n",
       "248  249     1  0.406514 -1.781050  52.44890\n",
       "249  250     1  1.509420 -1.029110  52.91300\n",
       "250  251     1  1.645940 -0.792644  54.30550\n",
       "251  252     1  1.745700  0.538476  54.76960\n",
       "\n",
       "[252 rows x 5 columns]>"
      ]
     },
     "execution_count": 58,
     "metadata": {},
     "output_type": "execute_result"
    }
   ],
   "source": [
    "finaldf.head"
   ]
  },
  {
   "cell_type": "code",
   "execution_count": 60,
   "id": "6481d79a",
   "metadata": {},
   "outputs": [
    {
     "name": "stdout",
     "output_type": "stream",
     "text": [
      "1.82686\n"
     ]
    }
   ],
   "source": [
    "column_xu = finaldf[\"xu\"]\n",
    "max_value = column_xu.max()\n",
    "#get max value from \"xu\"\n",
    "print(max_value)"
   ]
  },
  {
   "cell_type": "code",
   "execution_count": null,
   "id": "8f00ff31",
   "metadata": {},
   "outputs": [],
   "source": []
  }
 ],
 "metadata": {
  "kernelspec": {
   "display_name": "Python 3 (ipykernel)",
   "language": "python",
   "name": "python3"
  },
  "language_info": {
   "codemirror_mode": {
    "name": "ipython",
    "version": 3
   },
   "file_extension": ".py",
   "mimetype": "text/x-python",
   "name": "python",
   "nbconvert_exporter": "python",
   "pygments_lexer": "ipython3",
   "version": "3.9.12"
  }
 },
 "nbformat": 4,
 "nbformat_minor": 5
}
