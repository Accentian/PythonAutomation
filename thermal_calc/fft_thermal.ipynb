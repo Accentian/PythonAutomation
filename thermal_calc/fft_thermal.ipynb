{
 "cells": [
  {
   "cell_type": "code",
   "execution_count": 1,
   "id": "5e8701e5",
   "metadata": {},
   "outputs": [],
   "source": [
    "import numpy as np\n",
    "import matplotlib.pyplot as plt\n",
    "import scipy.fftpack\n",
    "%matplotlib inline"
   ]
  },
  {
   "cell_type": "code",
   "execution_count": null,
   "id": "ae24e6ed",
   "metadata": {},
   "outputs": [],
   "source": [
    "## Adjusts based on the timestep in your input script\n",
    "ntimesteps = 200000\n"
   ]
  },
  {
   "cell_type": "code",
   "execution_count": 6,
   "id": "eb2f492c",
   "metadata": {},
   "outputs": [
    {
     "data": {
      "image/png": "[encoded data removed]",
      "text/plain": [
       "<Figure size 432x288 with 1 Axes>"
      ]
     },
     "metadata": {
      "needs_background": "light"
     },
     "output_type": "display_data"
    },
    {
     "data": {
      "text/plain": [
       "'\\nCredit:\\nhttps://stackoverflow.com/questions/25735153/plotting-a-fast-fourier-transform-in-python\\n'"
      ]
     },
     "execution_count": 6,
     "metadata": {},
     "output_type": "execute_result"
    }
   ],
   "source": [
    "## Read file\n",
    "dataframe = pd.read_csv('dump.velocities', delimiter = ' ')\n",
    "csv_file = dataframe.to_csv('velocities.csv', index = None)\n",
    "\n",
    "## Read in data from file here\n",
    "array = np.loadtxt('velocities.csv', delimiter=',')\n",
    "length = len(array)\n",
    "\n",
    "'''\n",
    "https://www.dummies.com/article/technology/programming-web-design/python/performing-a-fast-fourier-transform-fft-\n",
    "on-a-sound-file-142859/\n",
    "'''\n",
    "\n",
    "fft_out = fft(array)\n",
    "plt.plot(np.abs(fft_out))\n",
    "plt.show()\n",
    "\n",
    "\n",
    "'''\n",
    "Credit:\n",
    "https://stackoverflow.com/questions/25735153/plotting-a-fast-fourier-transform-in-python\n",
    "'''\n",
    "# # Number of samplepoints\n",
    "# N = 600\n",
    "# # sample spacing\n",
    "# T = 1.0 / 800.0\n",
    "# x = np.linspace(0.0, N*T, N)\n",
    "# y = np.sin(50.0 * 2.0*np.pi*x) + 0.5*np.sin(80.0 * 2.0*np.pi*x)\n",
    "# yf = scipy.fftpack.fft(y)\n",
    "# xf = np.linspace(0.0, 1.0/(2.0*T), N//2)\n",
    "\n",
    "# fig, ax = plt.subplots()\n",
    "# ax.plot(xf, 2.0/N * np.abs(yf[:N//2]))\n",
    "# plt.show()\n"
   ]
  },
  {
   "cell_type": "code",
   "execution_count": null,
   "id": "32aa6638",
   "metadata": {},
   "outputs": [],
   "source": []
  }
 ],
 "metadata": {
  "kernelspec": {
   "display_name": "Python [conda env:notebook] *",
   "language": "python",
   "name": "conda-env-notebook-py"
  },
  "language_info": {
   "codemirror_mode": {
    "name": "ipython",
    "version": 3
   },
   "file_extension": ".py",
   "mimetype": "text/x-python",
   "name": "python",
   "nbconvert_exporter": "python",
   "pygments_lexer": "ipython3",
   "version": "3.9.12"
  }
 },
 "nbformat": 4,
 "nbformat_minor": 5
}
